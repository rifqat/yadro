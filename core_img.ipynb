{
 "cells": [
  {
   "cell_type": "code",
   "execution_count": 8,
   "id": "c5eade4d-ab3b-4ebe-81d6-7a3ef36f714d",
   "metadata": {},
   "outputs": [
    {
     "name": "stderr",
     "output_type": "stream",
     "text": [
      "/tmp/ipykernel_3955670/323222765.py:34: RuntimeWarning: overflow encountered in ubyte_scalars\n",
      "  intensity_diff = (I_i - I_j) ** 2 / (2 * sigma_I ** 2)\n"
     ]
    },
    {
     "data": {
      "image/png": "[encoded data removed]",
      "text/plain": [
       "<Figure size 640x480 with 2 Axes>"
      ]
     },
     "metadata": {},
     "output_type": "display_data"
    }
   ],
   "source": [
    "# Importing necessary libraries\n",
    "from PIL import Image\n",
    "import numpy as np\n",
    "import matplotlib.pyplot as plt\n",
    "\n",
    "# Load the image\n",
    "image_path = 'img/1.jpg'\n",
    "image = Image.open(image_path).convert('L')  # Convert to grayscale\n",
    "\n",
    "# Convert image to numpy array\n",
    "image_array = np.array(image) # / 255.0  # Normalize pixel values to [0, 1]\n",
    "\n",
    "# Function to calculate Euclidean distance between two points\n",
    "def euclidean_distance(p1, p2):\n",
    "    return np.sqrt((p1[0] - p2[0]) ** 2 + (p1[1] - p2[1]) ** 2)\n",
    "\n",
    "# Define the compute_weight function\n",
    "def compute_weight(I_i, I_j, dist_ij, sigma_I, sigma_d, r):\n",
    "    \"\"\"\n",
    "    Compute the weight between two pixels based on their intensity and distance.\n",
    "    \n",
    "    Args:\n",
    "        I_i (float): Intensity of pixel i, a value between 0 and 1.\n",
    "        I_j (float): Intensity of pixel j, a value between 0 and 1.\n",
    "        dist_ij (float): Euclidean distance between pixel i and j.\n",
    "        sigma_I (float): Standard deviation for intensity.\n",
    "        sigma_d (float): Standard deviation for distance.\n",
    "        r (float): Maximum allowable distance.\n",
    "    \n",
    "    Returns:\n",
    "        float: The computed weight.\n",
    "    \"\"\"\n",
    "    if dist_ij < r:\n",
    "        intensity_diff = (I_i - I_j) ** 2 / (2 * sigma_I ** 2)\n",
    "        distance_factor = (dist_ij ** 2) / (2 * sigma_d ** 2)\n",
    "        weight = np.exp(- (intensity_diff + distance_factor))\n",
    "        return weight\n",
    "    else:\n",
    "        return 0.0\n",
    "\n",
    "# Parameters\n",
    "sigma_I = 0.07  # Intensity standard deviation\n",
    "sigma_d = 8  # Distance standard deviation\n",
    "r = 11  # Maximum distance\n",
    "\n",
    "height, width = image_array.shape\n",
    "weights = np.zeros((height, width))\n",
    "\n",
    "# Iterate over the image pixels\n",
    "for i in range(height):\n",
    "    for j in range(width):\n",
    "        for x in range(max(0, i - r), min(height, i + r)):\n",
    "            for y in range(max(0, j - r), min(width, j + r)):\n",
    "                dist = euclidean_distance((i, j), (x, y))\n",
    "                #if dist < r:\n",
    "                weights[i, j] = compute_weight(image_array[i, j], image_array[x, y], dist, sigma_I, sigma_d, r)\n",
    "\n",
    "# Show the result as a visual map of weights\n",
    "plt.imshow(weights, cmap='hot')\n",
    "plt.colorbar()\n",
    "plt.title('Weight Map of Image')\n",
    "plt.show()\n"
   ]
  },
  {
   "cell_type": "code",
   "execution_count": 6,
   "id": "e87fd081-6f01-47cc-9d7f-331f37142919",
   "metadata": {},
   "outputs": [
    {
     "data": {
      "text/plain": [
       "array([[119, 121, 122, ..., 125, 123, 121],\n",
       "       [120, 121, 121, ..., 122, 121, 120],\n",
       "       [121, 121, 119, ..., 117, 116, 116],\n",
       "       ...,\n",
       "       [122, 118, 114, ..., 112, 112, 113],\n",
       "       [122, 122, 114, ..., 128, 116, 118],\n",
       "       [122, 122, 114, ..., 128, 116, 118]], dtype=uint8)"
      ]
     },
     "execution_count": 6,
     "metadata": {},
     "output_type": "execute_result"
    }
   ],
   "source": [
    "image_array"
   ]
  },
  {
   "cell_type": "code",
   "execution_count": 9,
   "id": "f3c4ee01-ecf1-4b68-bc25-2e70e6b46e44",
   "metadata": {},
   "outputs": [
    {
     "data": {
      "text/plain": [
       "array([[0.00000000e+00, 0.00000000e+00, 0.00000000e+00, ...,\n",
       "        0.00000000e+00, 0.00000000e+00, 0.00000000e+00],\n",
       "       [0.00000000e+00, 0.00000000e+00, 0.00000000e+00, ...,\n",
       "        2.14472826e-45, 4.54270474e-01, 0.00000000e+00],\n",
       "       [0.00000000e+00, 0.00000000e+00, 0.00000000e+00, ...,\n",
       "        0.00000000e+00, 0.00000000e+00, 0.00000000e+00],\n",
       "       ...,\n",
       "       [0.00000000e+00, 4.43747310e-01, 0.00000000e+00, ...,\n",
       "        0.00000000e+00, 0.00000000e+00, 0.00000000e+00],\n",
       "       [0.00000000e+00, 0.00000000e+00, 0.00000000e+00, ...,\n",
       "        0.00000000e+00, 0.00000000e+00, 9.92217938e-01],\n",
       "       [0.00000000e+00, 0.00000000e+00, 0.00000000e+00, ...,\n",
       "        0.00000000e+00, 0.00000000e+00, 1.00000000e+00]])"
      ]
     },
     "execution_count": 9,
     "metadata": {},
     "output_type": "execute_result"
    }
   ],
   "source": [
    "weights"
   ]
  },
  {
   "cell_type": "code",
   "execution_count": null,
   "id": "fda7de20-1d1c-4256-9e6e-484b7d7e55d0",
   "metadata": {},
   "outputs": [],
   "source": []
  },
  {
   "cell_type": "code",
   "execution_count": null,
   "id": "e90e1f06-bf5e-4165-8489-c330ad9c05ed",
   "metadata": {},
   "outputs": [],
   "source": []
  },
  {
   "cell_type": "code",
   "execution_count": null,
   "id": "3da5f842-c8a9-4e01-b56a-779a9da56b76",
   "metadata": {},
   "outputs": [],
   "source": []
  }
 ],
 "metadata": {
  "kernelspec": {
   "display_name": "Python 3 (ipykernel)",
   "language": "python",
   "name": "python3"
  },
  "language_info": {
   "codemirror_mode": {
    "name": "ipython",
    "version": 3
   },
   "file_extension": ".py",
   "mimetype": "text/x-python",
   "name": "python",
   "nbconvert_exporter": "python",
   "pygments_lexer": "ipython3",
   "version": "3.9.15"
  }
 },
 "nbformat": 4,
 "nbformat_minor": 5
}
