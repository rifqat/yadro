{
 "cells": [
  {
   "cell_type": "code",
   "execution_count": 41,
   "id": "28543e54-2716-49c3-99a1-68031ea724e7",
   "metadata": {},
   "outputs": [],
   "source": [
    "import numpy as np\n",
    "import pandas as pd\n",
    "from scipy.spatial.distance import pdist, squareform, cdist\n",
    "import matplotlib.pyplot as plt\n",
    "from sklearn.preprocessing import StandardScaler\n",
    "\n",
    "# Sample data\n",
    "x1 = np.array([\n",
    "    [1, 2], [1, 3], [2, 2], [2, 3], [3, 4], [7, 2], [7, 3], [8, 2], [8, 3], [9, 4],\n",
    "    [8, 8], [8, 9], [9, 8], [9, 9], [10, 10], [4, 5], [6, 5], [6, 7],\n",
    "])"
   ]
  },
  {
   "cell_type": "code",
   "execution_count": 43,
   "id": "281d7a3f-7edd-4612-ab69-4c3af532983f",
   "metadata": {},
   "outputs": [],
   "source": [
    "from sklearn import datasets\n",
    "n_samples = 500\n",
    "seed = 30\n",
    "noisy_circles = datasets.make_circles(\n",
    "    n_samples=n_samples, factor=0.5, noise=0.05, random_state=seed\n",
    ")\n",
    "datasets = [\n",
    "    (\n",
    "        noisy_circles,\n",
    "        {\n",
    "            \"damping\": 0.77,\n",
    "            \"preference\": -240,\n",
    "            \"quantile\": 0.2,\n",
    "            \"n_clusters\": 2,\n",
    "            \"min_samples\": 7,\n",
    "            \"xi\": 0.08,\n",
    "        },\n",
    "    ),]"
   ]
  },
  {
   "cell_type": "code",
   "execution_count": 48,
   "id": "7efb6c3c-1919-4763-8e4e-aa62172c3517",
   "metadata": {},
   "outputs": [
    {
     "name": "stdout",
     "output_type": "stream",
     "text": [
      "{'damping': 0.77, 'preference': -240, 'quantile': 0.2, 'n_clusters': 2, 'min_samples': 7, 'xi': 0.08}\n"
     ]
    }
   ],
   "source": [
    "for i_dataset, (dataset, algo_params) in enumerate(datasets):\n",
    "    print(algo_params)"
   ]
  },
  {
   "cell_type": "code",
   "execution_count": 28,
   "id": "813d6c04-f604-497c-bfaf-880ba97dc286",
   "metadata": {},
   "outputs": [
    {
     "data": {
      "image/png": "[encoded data removed]",
      "text/plain": [
       "<Figure size 800x600 with 1 Axes>"
      ]
     },
     "metadata": {},
     "output_type": "display_data"
    }
   ],
   "source": [
    "# Create a scatter plot\n",
    "plt.figure(figsize=(8, 6))\n",
    "plt.scatter(x1[:, 0], x1[:, 1], c='blue', label='x1 points')\n",
    "plt.xlabel('X-axis')\n",
    "plt.ylabel('Y-axis')\n",
    "plt.title('Scatter Plot of x1 Points')\n",
    "plt.grid(True)\n",
    "plt.legend()\n",
    "plt.show()"
   ]
  },
  {
   "cell_type": "code",
   "execution_count": 29,
   "id": "d5efecf2-26c7-43bd-b089-eb364bf37977",
   "metadata": {},
   "outputs": [],
   "source": [
    "# Function to create and normalize the distance matrix\n",
    "def create_distance_matrix(zscores, metric):\n",
    "    distance_matrix = pdist(zscores, metric=metric)\n",
    "    A = squareform(distance_matrix)\n",
    "    max_vals = np.max(A, axis=1, keepdims=True)\n",
    "    D = (max_vals - A) / max_vals\n",
    "    np.fill_diagonal(D, 0)\n",
    "    return D\n"
   ]
  },
  {
   "cell_type": "code",
   "execution_count": 30,
   "id": "20a22ce1-5b0c-400b-ba01-9b6ade087a98",
   "metadata": {},
   "outputs": [],
   "source": [
    "# Function to initialize clustering variables\n",
    "def initialize_clustering_variables(D):\n",
    "    n1 = D.shape[1] - 1\n",
    "    C = np.zeros((n1 + 1, 4))\n",
    "    return n1, C\n"
   ]
  },
  {
   "cell_type": "code",
   "execution_count": 31,
   "id": "73dde377-4f66-41bc-abba-78dbc0e7b9ed",
   "metadata": {},
   "outputs": [],
   "source": [
    "# Function to perform the main clustering loop\n",
    "def perform_clustering(D, n1):\n",
    "    C = np.zeros((n1 + 1, 4))\n",
    "    A = np.copy(D)\n",
    "    for m in range(n1):\n",
    "        B = np.sum(A, axis=1)\n",
    "        nonzero_indices = np.nonzero(B)[0]\n",
    "        if len(nonzero_indices) == 0:\n",
    "            break\n",
    "        min_value = np.min(B[nonzero_indices])\n",
    "        min_indices = np.where(B == min_value)[0]\n",
    "        C[m, 0] = min_indices[0]\n",
    "        C[m, 1] = min_value\n",
    "        A[min_indices[0], :] = 0\n",
    "        A[:, min_indices[0]] = 0\n",
    "    return C"
   ]
  },
  {
   "cell_type": "code",
   "execution_count": 32,
   "id": "1063176e-c7b2-4ceb-920a-28916e4bd23d",
   "metadata": {},
   "outputs": [],
   "source": [
    "# Function to calculate cluster thresholds and update C matrix\n",
    "def calculate_cluster_thresholds(C, alfa, n1):\n",
    "    C[0:n1, 2] = (C[0:n1, 1] - C[1:n1+1, 1]) / C[0:n1, 1]\n",
    "    C[:, 3] = (C[:, 2] > alfa)\n",
    "    return C\n"
   ]
  },
  {
   "cell_type": "code",
   "execution_count": 33,
   "id": "9355a4a1-2fb5-4b50-bb2b-77ea7dbafc71",
   "metadata": {},
   "outputs": [],
   "source": [
    "# Function to assign initial clusters based on thresholds\n",
    "def assign_initial_clusters(C, n1):\n",
    "    n, sigma = 1, 0\n",
    "    S = np.zeros((C.shape[0], 1))\n",
    "    for x1 in range(n1):\n",
    "        if C[x1, 3] - C[x1 + 1, 3] == 1:\n",
    "            S[int(C[x1, 0]), 0] = n\n",
    "            n += 1\n",
    "            if sigma + 1 > 1:\n",
    "                sigma_max = np.max(C[x1 - sigma + 1:x1 + 1, 1])\n",
    "                for i_sigma in range(x1 - sigma, x1 + 1):\n",
    "                    if C[i_sigma, 1] != sigma_max:\n",
    "                        S[int(C[i_sigma, 0]), 0] = 0\n",
    "                        C[i_sigma, 3] = 0\n",
    "                sigma = 0\n",
    "        if C[x1, 3] + C[x1 + 1, 3] == 2:\n",
    "            S[int(C[x1, 0]), 0] = n\n",
    "            sigma += 1    \n",
    "    m = np.sum(C[:, 3] == 0)\n",
    "    return S, m, n"
   ]
  },
  {
   "cell_type": "code",
   "execution_count": 34,
   "id": "df6e0075-6744-4284-b8dc-906f1bfa5d71",
   "metadata": {},
   "outputs": [],
   "source": [
    "# Function to finalize cluster assignments\n",
    "def finalize_clusters(S, A, m, n):\n",
    "    zero_indices = np.where(S == 0)[0]\n",
    "    m = len(zero_indices)\n",
    "    for i in range(m):\n",
    "        D = np.zeros((m - i, n - 1))\n",
    "        for j in range(n - 1):\n",
    "            c = S == (j + 1)\n",
    "            r = np.where(S == 0)[0]\n",
    "            D[:, j] = np.mean(A[np.ix_(r, c.flatten())], axis=1)\n",
    "        ra, ca = np.where(D == np.max(D))\n",
    "        S[r[ra[0]], 0] = ca[0] + 1\n",
    "    return S"
   ]
  },
  {
   "cell_type": "code",
   "execution_count": 35,
   "id": "56f7a949-7219-4b47-bf20-39966f39c0ba",
   "metadata": {},
   "outputs": [],
   "source": [
    "# Function to calculate DVI and Tightness indices\n",
    "def calculate_dvis(data, labels):\n",
    "    unique_labels = np.unique(labels)\n",
    "    dvi1_sum = 0\n",
    "    intra_cluster_density_sum = 0\n",
    "    inter_cluster_density_sum = 0\n",
    "    dvi3_sum = 0\n",
    "    tightness_sum = 0\n",
    "\n",
    "    for v in range(len(data)):\n",
    "        cluster = labels[v]\n",
    "        Cv = data[labels.flatten() == cluster]\n",
    "        V_minus_Cv = data[labels.flatten() != cluster]\n",
    "\n",
    "        intra_cluster_density = np.max(pdist(Cv)) if len(Cv) > 1 else 0\n",
    "        inter_cluster_density = np.max(cdist([data[v]], V_minus_Cv)) if len(V_minus_Cv) > 0 else 0\n",
    "\n",
    "        dvi1_sum += inter_cluster_density - intra_cluster_density\n",
    "        intra_cluster_density_sum += intra_cluster_density\n",
    "        inter_cluster_density_sum += inter_cluster_density\n",
    "        dvi3_sum += inter_cluster_density / intra_cluster_density if intra_cluster_density > 0 else 0\n",
    "        tightness_sum += np.mean(pdist(Cv)) if len(Cv) > 1 else 0\n",
    "\n",
    "    dvi2 = inter_cluster_density_sum / intra_cluster_density_sum if intra_cluster_density_sum > 0 else 0\n",
    "    tightness_avg = tightness_sum / len(unique_labels)\n",
    "    return dvi1_sum, dvi2, dvi3_sum, tightness_avg"
   ]
  },
  {
   "cell_type": "code",
   "execution_count": 36,
   "id": "4ea68887-b4d1-40fc-91e8-e277a388f0d1",
   "metadata": {},
   "outputs": [],
   "source": [
    "# Main clustering function\n",
    "def yadro(zscores, metrika, alfa, visualize=False):\n",
    "    D = create_distance_matrix(zscores, metrika)\n",
    "    n1, C = initialize_clustering_variables(D)\n",
    "    C = perform_clustering(D, n1)\n",
    "    C = calculate_cluster_thresholds(C, alfa, n1)\n",
    "    S, m, n = assign_initial_clusters(C, n1)\n",
    "    S = finalize_clusters(S, D, m, n)\n",
    "    dvi1, dvi2, dvi3, tightness_avg = calculate_dvis(zscores, S)\n",
    "    \n",
    "    print(f'tightness_avg: {tightness_avg}')\n",
    "    print(f'DVI1: {dvi1}')\n",
    "    print(f'DVI2: {dvi2}')\n",
    "    print(f'DVI3: {dvi3}')\n",
    "\n",
    "    if visualize:\n",
    "        visualize_clusters(zscores, S)\n",
    "\n",
    "    return S, dvi1, dvi2, dvi3,tightness_avg\n"
   ]
  },
  {
   "cell_type": "code",
   "execution_count": 37,
   "id": "63dbe404-28f3-4f8a-9957-d98fb9da1d07",
   "metadata": {},
   "outputs": [],
   "source": [
    "# Function to visualize clusters\n",
    "def visualize_clusters(data, cluster_labels):\n",
    "    plt.figure(figsize=(10, 8))\n",
    "    unique_labels = np.unique(cluster_labels)\n",
    "    for label in unique_labels:\n",
    "        plt.scatter(data[cluster_labels.flatten() == label, 0], data[cluster_labels.flatten() == label, 1], label=f'Cluster {int(label)}')\n",
    "    plt.title('Cluster Visualization')\n",
    "    plt.xlabel('Feature 1')\n",
    "    plt.ylabel('Feature 2')\n",
    "    plt.legend()\n",
    "    plt.show()\n"
   ]
  },
  {
   "cell_type": "code",
   "execution_count": 38,
   "id": "a05e9de8-a452-4d19-a4d1-e3d9c65c2a2c",
   "metadata": {},
   "outputs": [],
   "source": [
    "# Function to find optimal clustering parameters\n",
    "def find_optimal_parameters(graph, metrika, delta_values):\n",
    "    best_params = None\n",
    "    best_score = -np.inf\n",
    "\n",
    "    for delta in delta_values:\n",
    "        clusters, dvi1, dvi2, dvi3,tightness_avg = yadro(graph, metrika, delta)\n",
    "         # Normalize and combine DVI scores and tightness_avg to get a single score\n",
    "        combined_score = dvi1 - dvi2 - dvi3 + tightness_avg  # Adjust weights as needed\n",
    "        if combined_score > best_score:\n",
    "            best_score = combined_score\n",
    "            best_params = delta\n",
    "\n",
    "    return best_params, best_score\n"
   ]
  },
  {
   "cell_type": "code",
   "execution_count": 40,
   "id": "c9cf8ed1-69d2-49fe-9690-1e7a773b4902",
   "metadata": {},
   "outputs": [
    {
     "name": "stdout",
     "output_type": "stream",
     "text": [
      "tightness_avg: 12.55372279489157\n",
      "DVI1: 90.5251265768654\n",
      "DVI2: 2.1742913820156455\n",
      "DVI3: 39.33533388607744\n",
      "tightness_avg: 12.55372279489157\n",
      "DVI1: 90.5251265768654\n",
      "DVI2: 2.1742913820156455\n",
      "DVI3: 39.33533388607744\n",
      "tightness_avg: 31.03602746984595\n",
      "DVI1: 47.253194709757274\n",
      "DVI2: 1.3925952914321351\n",
      "DVI3: 25.24622278724379\n",
      "tightness_avg: 31.03602746984595\n",
      "DVI1: 47.253194709757274\n",
      "DVI2: 1.3925952914321351\n",
      "DVI3: 25.24622278724379\n",
      "tightness_avg: 31.03602746984595\n",
      "DVI1: 47.253194709757274\n",
      "DVI2: 1.3925952914321351\n",
      "DVI3: 25.24622278724379\n",
      "tightness_avg: 31.03602746984595\n",
      "DVI1: 47.253194709757274\n",
      "DVI2: 1.3925952914321351\n",
      "DVI3: 25.24622278724379\n",
      "tightness_avg: 93.20120269902009\n",
      "DVI1: -216.74870241826127\n",
      "DVI2: 0.0\n",
      "DVI3: 0.0\n",
      "tightness_avg: 93.20120269902009\n",
      "DVI1: -216.74870241826127\n",
      "DVI2: 0.0\n",
      "DVI3: 0.0\n",
      "Best Parameters: 0.0\n",
      "Best Score: 61.56922410366389\n",
      "tightness_avg: 12.55372279489157\n",
      "DVI1: 90.5251265768654\n",
      "DVI2: 2.1742913820156455\n",
      "DVI3: 39.33533388607744\n"
     ]
    },
    {
     "data": {
      "image/png": "[encoded data removed]",
      "text/plain": [
       "<Figure size 1000x800 with 1 Axes>"
      ]
     },
     "metadata": {},
     "output_type": "display_data"
    }
   ],
   "source": [
    "# Example usage\n",
    "alfa = np.arange(0, 0.8, 0.1)\n",
    "best_params, best_score = find_optimal_parameters(x1, 'euclidean', alfa)\n",
    "print(\"Best Parameters:\", best_params)\n",
    "print(\"Best Score:\", best_score)\n",
    "\n",
    "zscores = x1  # Example data\n",
    "S, dvi1, dvi2, dvi3,tightness_avg = yadro(zscores, 'euclidean', best_params, visualize=True)"
   ]
  },
  {
   "cell_type": "code",
   "execution_count": null,
   "id": "8050bca6-8522-421b-9b4e-5cf5b97f7580",
   "metadata": {},
   "outputs": [],
   "source": []
  }
 ],
 "metadata": {
  "kernelspec": {
   "display_name": "Python 3 (ipykernel)",
   "language": "python",
   "name": "python3"
  },
  "language_info": {
   "codemirror_mode": {
    "name": "ipython",
    "version": 3
   },
   "file_extension": ".py",
   "mimetype": "text/x-python",
   "name": "python",
   "nbconvert_exporter": "python",
   "pygments_lexer": "ipython3",
   "version": "3.9.15"
  }
 },
 "nbformat": 4,
 "nbformat_minor": 5
}
